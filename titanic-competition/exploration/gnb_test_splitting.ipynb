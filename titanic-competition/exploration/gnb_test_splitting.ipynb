{
 "cells": [
  {
   "cell_type": "code",
   "execution_count": null,
   "metadata": {},
   "outputs": [],
   "source": [
    "import pandas as pd    #load the data, statistics\n",
    "import seaborn as sns   #visualize the data\n",
    "\n",
    "from sklearn.preprocessing import LabelEncoder, OneHotEncoder #nominal, categorical\n",
    "from sklearn.compose import ColumnTransformer\n",
    "from sklearn.model_selection import train_test_split\n",
    "\n",
    "\n",
    "train_df = pd.read_csv('input/train.csv')\n",
    "\n",
    "# Creating new categories for age\n",
    "train_df['<10 yrs'] = train_df['Age'].apply(lambda x: 1 if x < 10 else 0)\n",
    "train_df['>60 yrs'] = train_df['Age'].apply(lambda x: 1 if x > 60 else 0)\n",
    "\n",
    "selected_columns = train_df.drop(['Name', 'Age', 'SibSp', 'Parch', 'Ticket', 'Fare', 'Cabin', 'Embarked'], axis=1)\n",
    "print(selected_columns)\n",
    "\n",
    "#1 is male, 2 is female\n",
    "labelEncoder = LabelEncoder()\n",
    "selected_columns['Sex'] = labelEncoder.fit_transform(selected_columns['Sex'])\n",
    "\n",
    "# Define the features (X) and target (y)\n",
    "X = selected_columns[['Sex', 'Pclass', '<10 yrs', '>60 yrs']]\n",
    "y = selected_columns['Survived']\n",
    "\n",
    "X_train, X_test, y_train, y_test = train_test_split(X, y, test_size=0.2, random_state=1, stratify=y)\n",
    "\n",
    "preprocessor = ColumnTransformer(\n",
    "    transformers=[\n",
    "        ('pclass', OneHotEncoder(drop='first'), ['Pclass'])\n",
    "    ], remainder='passthrough')\n",
    "\n",
    "X_transformed = preprocessor.fit_transform(X)\n",
    "pclass_feature_names = preprocessor.named_transformers_['pclass'].get_feature_names_out(['Pclass'])\n",
    "all_feature_names = list(pclass_feature_names) + ['Sex', '<10 yrs', '>60 yrs']\n",
    "\n",
    "# Convert the transformed data back into a DataFrame\n",
    "X_transformed_df = pd.DataFrame(X_transformed, columns=all_feature_names)\n",
    "print(X_transformed_df)"
   ]
  },
  {
   "cell_type": "code",
   "execution_count": null,
   "metadata": {},
   "outputs": [],
   "source": []
  }
 ],
 "metadata": {
  "language_info": {
   "name": "python"
  }
 },
 "nbformat": 4,
 "nbformat_minor": 2
}
