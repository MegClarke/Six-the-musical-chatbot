{
 "cells": [
  {
   "cell_type": "code",
   "execution_count": null,
   "metadata": {},
   "outputs": [],
   "source": [
    "import os\n",
    "from bs4 import SoupStrainer, BeautifulSoup\n",
    "import json\n",
    "from langchain import hub\n",
    "from langchain_chroma import Chroma\n",
    "from langchain.docstore.document import Document\n",
    "from langchain_community.document_loaders import WebBaseLoader,  WikipediaLoader\n",
    "from langchain_core.output_parsers import StrOutputParser\n",
    "from langchain_core.runnables import RunnablePassthrough\n",
    "from langchain_openai import OpenAIEmbeddings, ChatOpenAI\n",
    "from langchain_text_splitters import RecursiveCharacterTextSplitter\n",
    "\n",
    "from dotenv import load_dotenv\n",
    "load_dotenv()\n",
    "\n",
    "print(\"imported\")"
   ]
  },
  {
   "cell_type": "code",
   "execution_count": null,
   "metadata": {},
   "outputs": [],
   "source": [
    "with open('documents.json', 'r') as f:\n",
    "    loaded_docs = json.load(f)\n",
    "\n",
    "print(loaded_docs)\n",
    "json_docs = []\n",
    "\n",
    "for doc in loaded_docs:\n",
    "    text = doc[\"content\"]\n",
    "    metadata = {\"title\": doc[\"title\"]}\n",
    "    json_docs.extend([Document(metadata=metadata, page_content=text)])\n",
    "\n",
    "text_splitter = RecursiveCharacterTextSplitter(chunk_size=1300, chunk_overlap=200, add_start_index=True)\n",
    "json_documents = text_splitter.split_documents(json_docs)\n",
    "\n",
    "print(len(json_documents))\n",
    "print(len(json_documents[0].page_content))\n",
    "print(json_documents[0].page_content)"
   ]
  },
  {
   "cell_type": "code",
   "execution_count": null,
   "metadata": {},
   "outputs": [],
   "source": [
    "class SingletonChroma:\n",
    "    _instance = None\n",
    "    \n",
    "    @staticmethod\n",
    "    def get_instance(documents=None):\n",
    "        if SingletonChroma._instance is None:\n",
    "            if documents is None:\n",
    "                raise ValueError(\"Documents must be provided for the first initialization.\")\n",
    "            SingletonChroma(documents)\n",
    "        return SingletonChroma._instance\n",
    "\n",
    "    def __init__(self, documents):\n",
    "        if SingletonChroma._instance is not None:\n",
    "            raise Exception(\"This class is a singleton!\")\n",
    "        SingletonChroma._instance = Chroma.from_documents(\n",
    "            documents=documents,\n",
    "            embedding=OpenAIEmbeddings(model=\"text-embedding-ada-002\")\n",
    "        )\n",
    "\n",
    "    \n",
    "singleton_chroma = SingletonChroma.get_instance(documents=json_documents)\n",
    "retriever = singleton_chroma.as_retriever(search_type=\"similarity\", search_kwargs={\"k\": 6})"
   ]
  },
  {
   "cell_type": "code",
   "execution_count": null,
   "metadata": {},
   "outputs": [],
   "source": [
    "singleton_chroma = SingletonChroma.get_instance(documents=json_documents)\n",
    "retriever = singleton_chroma.as_retriever(search_type=\"similarity\", search_kwargs={\"k\": 6})"
   ]
  },
  {
   "cell_type": "code",
   "execution_count": null,
   "metadata": {},
   "outputs": [],
   "source": [
    "retrieved_docs = retriever.invoke(\"Anne Boleyn's relationship with Henry VIII\")\n",
    "print(retrieved_docs[0].metadata)\n",
    "print(retrieved_docs[0].page_content)\n",
    "print(retrieved_docs[1].metadata)\n",
    "print(retrieved_docs[1].page_content)\n",
    "print(retrieved_docs[2].metadata)\n",
    "print(retrieved_docs[2].page_content)\n",
    "print(retrieved_docs[3].metadata)\n",
    "print(retrieved_docs[3].page_content)\n",
    "print(retrieved_docs[4].metadata)\n",
    "print(retrieved_docs[4].page_content)\n",
    "print(retrieved_docs[5].metadata)\n",
    "print(retrieved_docs[5].page_content)"
   ]
  },
  {
   "cell_type": "code",
   "execution_count": null,
   "metadata": {},
   "outputs": [],
   "source": [
    "retrieved_docs = retriever.invoke(\"Who was Anne Boleyn in Six the musical?\")\n",
    "print(retrieved_docs[0].metadata)\n",
    "print(retrieved_docs[0].page_content)\n",
    "print(retrieved_docs[1].metadata)\n",
    "print(retrieved_docs[1].page_content)\n",
    "print(retrieved_docs[2].metadata)\n",
    "print(retrieved_docs[2].page_content)\n",
    "print(retrieved_docs[3].metadata)\n",
    "print(retrieved_docs[3].page_content)\n",
    "print(retrieved_docs[4].metadata)\n",
    "print(retrieved_docs[4].page_content)\n",
    "print(retrieved_docs[5].metadata)\n",
    "print(retrieved_docs[5].page_content)"
   ]
  },
  {
   "cell_type": "code",
   "execution_count": null,
   "metadata": {},
   "outputs": [],
   "source": [
    "llm = ChatOpenAI(model_name=\"gpt-4o-mini\")\n",
    "prompt = hub.pull(\"rlm/rag-prompt\")\n",
    "\n",
    "def format_docs(docs):\n",
    "    return \"\\n\\n\".join(doc.page_content for doc in docs)\n",
    "\n",
    "rag_chain = (\n",
    "    {\"context\": retriever | format_docs, \"question\": RunnablePassthrough()}\n",
    "    | prompt\n",
    "    | llm\n",
    "    | StrOutputParser()\n",
    ")"
   ]
  },
  {
   "cell_type": "code",
   "execution_count": null,
   "metadata": {},
   "outputs": [],
   "source": [
    "rag_chain.invoke(\"Who was Anne Boleyn in the context of Six the Musical?\")"
   ]
  }
 ],
 "metadata": {
  "kernelspec": {
   "display_name": "chatbotenv",
   "language": "python",
   "name": "python3"
  },
  "language_info": {
   "codemirror_mode": {
    "name": "ipython",
    "version": 3
   },
   "file_extension": ".py",
   "mimetype": "text/x-python",
   "name": "python",
   "nbconvert_exporter": "python",
   "pygments_lexer": "ipython3",
   "version": "3.12.2"
  }
 },
 "nbformat": 4,
 "nbformat_minor": 2
}
