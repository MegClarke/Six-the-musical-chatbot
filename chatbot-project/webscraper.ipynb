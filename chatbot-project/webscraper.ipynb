{
 "cells": [
  {
   "cell_type": "code",
   "execution_count": 9,
   "metadata": {},
   "outputs": [
    {
     "name": "stdout",
     "output_type": "stream",
     "text": [
      "All packages imported successfully!\n"
     ]
    }
   ],
   "source": [
    "try:\n",
    "    import scrapy\n",
    "    import chromadb\n",
    "    import requests\n",
    "    from bs4 import BeautifulSoup\n",
    "    from langchain import hub\n",
    "    from langchain_chroma import Chroma\n",
    "    from langchain_community.document_loaders import WebBaseLoader\n",
    "    from langchain_core.output_parsers import StrOutputParser\n",
    "    from langchain_core.runnables import RunnablePassthrough\n",
    "    from langchain_text_splitters import RecursiveCharacterTextSplitter\n",
    "    #missing from langchain_openai import OpenAIEmbeddings\n",
    "\n",
    "\n",
    "    print(\"All packages imported successfully!\")\n",
    "except ImportError as e:\n",
    "    print(f\"Error importing packages: {e}\")"
   ]
  }
 ],
 "metadata": {
  "kernelspec": {
   "display_name": "chatbotenv",
   "language": "python",
   "name": "python3"
  },
  "language_info": {
   "codemirror_mode": {
    "name": "ipython",
    "version": 3
   },
   "file_extension": ".py",
   "mimetype": "text/x-python",
   "name": "python",
   "nbconvert_exporter": "python",
   "pygments_lexer": "ipython3",
   "version": "3.12.2"
  }
 },
 "nbformat": 4,
 "nbformat_minor": 2
}
