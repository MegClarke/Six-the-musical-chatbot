{
 "cells": [
  {
   "cell_type": "code",
   "execution_count": null,
   "metadata": {},
   "outputs": [],
   "source": [
    "import scrapy\n",
    "import chromadb\n",
    "import requests\n",
    "import os\n",
    "from bs4 import SoupStrainer, BeautifulSoup\n",
    "from langchain import hub\n",
    "from langchain_chroma import Chroma\n",
    "from langchain_community.document_loaders import WebBaseLoader,  WikipediaLoader\n",
    "from langchain_core.output_parsers import StrOutputParser\n",
    "from langchain_core.runnables import RunnablePassthrough\n",
    "from langchain_openai import OpenAIEmbeddings, ChatOpenAI\n",
    "from langchain_text_splitters import RecursiveCharacterTextSplitter\n",
    "\n",
    "from dotenv import load_dotenv\n",
    "load_dotenv()\n",
    "\n",
    "os.environ[\"OPENAI_API_KEY\"]"
   ]
  },
  {
   "cell_type": "code",
   "execution_count": null,
   "metadata": {},
   "outputs": [],
   "source": [
    "queries = [\"Six (musical)\", \"Catherine of Aragon\", \"Anne Boleyn\", \"Jane Seymour\", \"Anne of Cleves\", \"Catherine Howard\", \"Catherine Parr\", \"Henry VIII\"]\n",
    "\n",
    "# Initialize an empty list to hold all documents\n",
    "all_docs = []\n",
    "# Loop through the queries and load documents\n",
    "for query in queries:\n",
    "    loader = WikipediaLoader(\n",
    "        query=query,\n",
    "        load_max_docs=1,\n",
    "        doc_content_chars_max=80000\n",
    "    )\n",
    "    all_docs.extend(loader.load())\n",
    "\n",
    "print(len(all_docs[6].page_content))\n",
    "# Optionally print the text content to verify\n",
    "print(all_docs[6].page_content)"
   ]
  },
  {
   "cell_type": "code",
   "execution_count": null,
   "metadata": {},
   "outputs": [],
   "source": [
    "import json\n",
    "serializable_docs = [{\"title\": doc.metadata.get(\"title\", \"\"), \"content\": doc.page_content} for doc in all_docs]\n",
    "\n",
    "# Save documents to a file\n",
    "with open('documents.json', 'w') as f:\n",
    "    json.dump(serializable_docs, f)"
   ]
  },
  {
   "cell_type": "code",
   "execution_count": null,
   "metadata": {},
   "outputs": [],
   "source": [
    "#not using WikipediaLoader\n",
    "bs4_strainer = SoupStrainer(\n",
    "    [\"p\", \"h1\", \"h2\", \"h3\", \"h4\", \"h5\", \"h6\"]\n",
    ") \n",
    "loader = WebBaseLoader(\n",
    "    web_paths=(\n",
    "        \"https://en.wikipedia.org/wiki/Six_(musical)\",\n",
    "        \"https://en.wikipedia.org/wiki/Catherine_of_Aragon\",\n",
    "        \"https://en.wikipedia.org/wiki/Anne_Boleyn\",\n",
    "        \"https://en.wikipedia.org/wiki/Jane_Seymour \",\n",
    "        \"https://en.wikipedia.org/wiki/Anne_of_Cleves\",\n",
    "        \"https://en.wikipedia.org/wiki/Catherine_Howard\",\n",
    "        \"https://en.wikipedia.org/wiki/Catherine_Parr\",\n",
    "        \"https://en.wikipedia.org/wiki/Henry_VIII\",\n",
    "    ),\n",
    "    bs_kwargs={\"parse_only\": bs4_strainer},\n",
    ")\n",
    "docs = loader.load()\n",
    "\n",
    "\n",
    "print(len(docs[6].page_content))\n",
    "# Optionally print the text content to verify\n",
    "print(docs[6].page_content)"
   ]
  },
  {
   "cell_type": "code",
   "execution_count": null,
   "metadata": {},
   "outputs": [],
   "source": [
    "import json\n",
    "from langchain.docstore.document import Document\n",
    "\n",
    "with open('documents.json', 'r') as f:\n",
    "    loaded_docs = json.load(f)\n",
    "\n",
    "print(loaded_docs)\n",
    "json_docs = []\n",
    "\n",
    "for doc in loaded_docs:\n",
    "    text = doc[\"content\"]\n",
    "    metadata = {\"title\": doc[\"title\"]}\n",
    "    json_docs.extend([Document(metadata=metadata, page_content=text)])\n",
    "\n",
    "text_splitter = RecursiveCharacterTextSplitter(chunk_size=1300, chunk_overlap=200, add_start_index=True)\n",
    "json_documents = text_splitter.split_documents(json_docs)\n",
    "\n",
    "print(len(json_documents))\n",
    "print(len(json_documents[0].page_content))\n",
    "print(json_documents[0].page_content)\n",
    "# Convert loaded data back to Document objects\n",
    "#all_docs = [JSONLoader(page_content=doc[\"content\"], metadata={\"title\": doc[\"title\"]}) for doc in loaded_docs]\n"
   ]
  },
  {
   "cell_type": "code",
   "execution_count": null,
   "metadata": {},
   "outputs": [],
   "source": [
    "vectorstore = Chroma.from_documents(documents=json_documents, embedding=OpenAIEmbeddings(model=\"text-embedding-ada-002\"))\n",
    "retriever = vectorstore.as_retriever(search_type=\"similarity\", search_kwargs={\"k\": 6})\n",
    "retrieved_docs = retriever.invoke(\"Anne Boleyn's relationship with Henry VIII\")\n",
    "print(retrieved_docs[0].metadata)\n",
    "print(retrieved_docs[0].page_content)\n",
    "print(retrieved_docs[1].metadata)\n",
    "print(retrieved_docs[1].page_content)\n",
    "print(retrieved_docs[2].metadata)\n",
    "print(retrieved_docs[2].page_content)\n",
    "print(retrieved_docs[3].metadata)\n",
    "print(retrieved_docs[3].page_content)\n",
    "print(retrieved_docs[4].metadata)\n",
    "print(retrieved_docs[4].page_content)\n",
    "print(retrieved_docs[5].metadata)\n",
    "print(retrieved_docs[5].page_content)\n"
   ]
  },
  {
   "cell_type": "code",
   "execution_count": null,
   "metadata": {},
   "outputs": [],
   "source": [
    "retrieved_docs = retriever.invoke(\"Who is Anne Boleyn\")\n",
    "print(retrieved_docs[0].metadata)\n",
    "print(retrieved_docs[0].page_content)\n",
    "print(retrieved_docs[1].metadata)\n",
    "print(retrieved_docs[1].page_content)\n",
    "print(retrieved_docs[2].metadata)\n",
    "print(retrieved_docs[2].page_content)\n",
    "print(retrieved_docs[3].metadata)\n",
    "print(retrieved_docs[3].page_content)\n",
    "print(retrieved_docs[4].metadata)\n",
    "print(retrieved_docs[4].page_content)\n",
    "print(retrieved_docs[5].metadata)\n",
    "print(retrieved_docs[5].page_content)"
   ]
  },
  {
   "cell_type": "code",
   "execution_count": null,
   "metadata": {},
   "outputs": [],
   "source": []
  },
  {
   "cell_type": "code",
   "execution_count": null,
   "metadata": {},
   "outputs": [],
   "source": [
    "print(all_docs)\n",
    "\n",
    "text_splitter = RecursiveCharacterTextSplitter(chunk_size=1300, chunk_overlap=100, add_start_index=True)\n",
    "documents = text_splitter.split_documents(all_docs)\n",
    "\n",
    "print(len(documents))\n",
    "print(len(documents[1].page_content))\n",
    "print(documents[1].metadata)\n",
    "print(documents[1].page_content)"
   ]
  },
  {
   "cell_type": "code",
   "execution_count": null,
   "metadata": {},
   "outputs": [],
   "source": []
  },
  {
   "cell_type": "code",
   "execution_count": null,
   "metadata": {},
   "outputs": [],
   "source": [
    "vectorstore = Chroma.from_documents(documents=documents, embedding=OpenAIEmbeddings(model=\"text-embedding-ada-002\"))\n",
    "retriever = vectorstore.as_retriever(search_type=\"similarity\", search_kwargs={\"k\": 6})"
   ]
  },
  {
   "cell_type": "code",
   "execution_count": null,
   "metadata": {},
   "outputs": [],
   "source": []
  },
  {
   "cell_type": "code",
   "execution_count": null,
   "metadata": {},
   "outputs": [],
   "source": [
    "retrieved_docs = retriever.invoke(\"Who was Anne Boleyn?\")\n",
    "print(retrieved_docs[0].metadata)\n",
    "print(retrieved_docs[0].page_content)\n",
    "print(retrieved_docs[1].metadata)\n",
    "print(retrieved_docs[1].page_content)\n",
    "print(retrieved_docs[2].metadata)\n",
    "print(retrieved_docs[2].page_content)\n",
    "print(retrieved_docs[3].metadata)\n",
    "print(retrieved_docs[3].page_content)\n",
    "print(retrieved_docs[4].metadata)\n",
    "print(retrieved_docs[4].page_content)\n",
    "print(retrieved_docs[5].metadata)\n",
    "print(retrieved_docs[5].page_content)"
   ]
  },
  {
   "cell_type": "code",
   "execution_count": null,
   "metadata": {},
   "outputs": [],
   "source": [
    "llm = ChatOpenAI(model_name=\"gpt-4o-mini\")\n",
    "prompt = \"Hello, World!\"\n",
    "\n",
    "response = llm(messages=[{\"role\": \"user\", \"content\": prompt}], temperature=0)\n",
    "\n",
    "print(response.content)"
   ]
  },
  {
   "cell_type": "code",
   "execution_count": null,
   "metadata": {},
   "outputs": [],
   "source": []
  }
 ],
 "metadata": {
  "kernelspec": {
   "display_name": "chatbotenv",
   "language": "python",
   "name": "python3"
  },
  "language_info": {
   "codemirror_mode": {
    "name": "ipython",
    "version": 3
   },
   "file_extension": ".py",
   "mimetype": "text/x-python",
   "name": "python",
   "nbconvert_exporter": "python",
   "pygments_lexer": "ipython3",
   "version": "3.12.2"
  }
 },
 "nbformat": 4,
 "nbformat_minor": 2
}
